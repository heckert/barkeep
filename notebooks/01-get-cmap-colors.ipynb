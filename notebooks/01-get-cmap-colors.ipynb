{
 "cells": [
  {
   "cell_type": "code",
   "execution_count": null,
   "metadata": {},
   "outputs": [],
   "source": [
    "%load_ext autoreload\n",
    "%autoreload 2"
   ]
  },
  {
   "cell_type": "code",
   "execution_count": null,
   "metadata": {},
   "outputs": [],
   "source": [
    "import pandas as pd\n",
    "import matplotlib.pyplot as plt\n",
    "\n",
    "from bartender.utils import get_cmap_colors"
   ]
  },
  {
   "cell_type": "code",
   "execution_count": null,
   "metadata": {},
   "outputs": [],
   "source": [
    "# see https://matplotlib.org/stable/tutorials/colors/colormaps.html\n",
    "# for available colormaps"
   ]
  },
  {
   "cell_type": "code",
   "execution_count": null,
   "metadata": {},
   "outputs": [],
   "source": [
    "df = pd.DataFrame({\n",
    "    'group': list('aabbcc'),\n",
    "    'metric': [1, 4, 2, 6, 3, 8],\n",
    "})\n",
    "\n",
    "df['bins'] = pd.cut(df.metric,\n",
    "                    [0, 3, 6, 9],\n",
    "                    labels=['small', 'medium', 'large'])\n",
    "df"
   ]
  },
  {
   "cell_type": "code",
   "execution_count": null,
   "metadata": {},
   "outputs": [],
   "source": [
    "cmap = get_cmap_colors(n_colors_in_cmap=9,\n",
    "                       indices_to_select=[0, 4, 6],\n",
    "                       name='Pastel1')\n",
    "\n",
    "df.groupby('group')['bins'].value_counts(normalize=True) \\\n",
    "    .unstack() \\\n",
    "    .plot(kind='bar', stacked=True, color=cmap)"
   ]
  },
  {
   "cell_type": "code",
   "execution_count": null,
   "metadata": {},
   "outputs": [],
   "source": [
    "cmap = get_cmap_colors(3,\n",
    "                       name='tab10',\n",
    "                       n_colors_in_cmap=10)\n",
    "\n",
    "df.groupby('group')['bins'].value_counts(normalize=True) \\\n",
    "    .unstack() \\\n",
    "    .plot(kind='bar', stacked=True, color=cmap)"
   ]
  }
 ],
 "metadata": {
  "kernelspec": {
   "display_name": "Python 3.10.6 ('bartender')",
   "language": "python",
   "name": "python3"
  },
  "language_info": {
   "codemirror_mode": {
    "name": "ipython",
    "version": 3
   },
   "file_extension": ".py",
   "mimetype": "text/x-python",
   "name": "python",
   "nbconvert_exporter": "python",
   "pygments_lexer": "ipython3",
   "version": "3.10.6"
  },
  "orig_nbformat": 4,
  "vscode": {
   "interpreter": {
    "hash": "d1a53fc937468dc7bda909e99cfe55ef3c288216c7887bc8e5fc174acbf83924"
   }
  }
 },
 "nbformat": 4,
 "nbformat_minor": 2
}
