{
 "cells": [
  {
   "cell_type": "code",
   "execution_count": null,
   "metadata": {},
   "outputs": [],
   "source": [
    "%load_ext autoreload\n",
    "%autoreload 2"
   ]
  },
  {
   "cell_type": "code",
   "execution_count": null,
   "metadata": {},
   "outputs": [],
   "source": [
    "import pandas as pd\n",
    "import matplotlib.pyplot as plt\n",
    "\n",
    "from bartender.utils import get_cmap_colors"
   ]
  },
  {
   "cell_type": "code",
   "execution_count": null,
   "metadata": {},
   "outputs": [],
   "source": [
    "# see https://matplotlib.org/stable/tutorials/colors/colormaps.html\n",
    "# for available colormaps"
   ]
  },
  {
   "cell_type": "code",
   "execution_count": null,
   "metadata": {},
   "outputs": [],
   "source": [
    "df = pd.DataFrame({\n",
    "    'group': list('aabbcc'),\n",
    "    'metric': [1, 4, 2, 6, 3, 8],\n",
    "})\n",
    "\n",
    "df['bins'] = pd.cut(df.metric,\n",
    "                    [0, 3, 6, 9],\n",
    "                    labels=['small', 'medium', 'large'])\n",
    "df"
   ]
  },
  {
   "cell_type": "code",
   "execution_count": null,
   "metadata": {},
   "outputs": [],
   "source": [
    "cmap = get_cmap_colors(n_colors_in_cmap=9,\n",
    "                       indices_to_select=[0, 4, 6],\n",
    "                       name='Pastel1')\n",
    "\n",
    "df.groupby('group')['bins'].value_counts(normalize=True) \\\n",
    "    .unstack() \\\n",
    "    .plot(kind='bar', stacked=True, color=cmap)"
   ]
  },
  {
   "cell_type": "code",
   "execution_count": null,
   "metadata": {},
   "outputs": [],
   "source": [
    "cmap = get_cmap_colors(3,\n",
    "                       name='tab10',\n",
    "                       n_colors_in_cmap=10)\n",
    "\n",
    "df.groupby('group')['bins'].value_counts(normalize=True) \\\n",
    "    .unstack() \\\n",
    "    .plot(kind='bar', stacked=True, color=cmap)"
   ]
  }
 ],
 "metadata": {
  "kernelspec": {
   "display_name": "bartender",
   "language": "python",
   "name": "python3"
  },
  "language_info": {
   "codemirror_mode": {
    "name": "ipython",
    "version": 3
   },
   "file_extension": ".py",
   "mimetype": "text/x-python",
   "name": "python",
   "nbconvert_exporter": "python",
   "pygments_lexer": "ipython3",
   "version": "3.10.8 | packaged by conda-forge | (main, Nov 22 2022, 08:26:04) [GCC 10.4.0]"
  },
  "orig_nbformat": 4,
  "vscode": {
   "interpreter": {
    "hash": "7531772b89aba0742e0e3279b2ec660d630456140aab32edb4832b8000cded1c"
   }
  }
 },
 "nbformat": 4,
 "nbformat_minor": 2
}
